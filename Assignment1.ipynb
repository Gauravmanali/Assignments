{
 "cells": [
  {
   "cell_type": "raw",
   "id": "efb0513b-b348-46d3-a0b0-279dd1c6c99f",
   "metadata": {},
   "source": [
    "Ans1) In the below elements which of them are values or an expression? eg:- values can be\n",
    " integer or string and expressions will be mathematical operators.\n",
    "* =  expression\n",
    "hello = Values \n",
    "-87.8 = Values \n",
    "- =  expression\n",
    "/ =  expression\n",
    "+ =  expression\n",
    "6 = Values "
   ]
  },
  {
   "cell_type": "raw",
   "id": "2142fa15-2062-4350-9fa4-3bd5879311e4",
   "metadata": {},
   "source": [
    "2) variable is where we store the information where as string is value that we store in variable "
   ]
  },
  {
   "cell_type": "raw",
   "id": "8cd5fe1a-8a77-4114-a080-f64a9d468027",
   "metadata": {},
   "source": [
    "3) String = values containg inside double quotes (\" \") \n",
    "\n",
    "Integer = whole number (7, 12, 999)\n",
    "\n",
    "Float containing numbers with decimal points (3.15, 9.06, 00.13)"
   ]
  },
  {
   "cell_type": "raw",
   "id": "48022b2a-3eaf-44d7-bf60-56cc466bc5d3",
   "metadata": {},
   "source": [
    "4) An expression is a combination of values, variables, operators, and calls to function\n",
    "The expression in Python produces some value or result after being interpreted by the Python interpreter"
   ]
  },
  {
   "cell_type": "raw",
   "id": "0724c19b-6a73-4f2e-8a10-b8e87b698f7c",
   "metadata": {},
   "source": [
    "5)  An expression is a combination of values, variables, and operators.When we type an expression at the prompt, the interpreter evaluates it, which means that it finds the value of the expression.\n",
    "\n",
    "eg: 4*5+20-40 is an example of a statement\n",
    "\n",
    "A statement is a unit of code that has an effect, like creating a variable or displaying a value.When we type a statement, the interpreter executes it, which means that it does whatever the statement says. In general, statements don’t have values.\n",
    "\n",
    "eg: variable declaration and assignment are statements because they do not return a value"
   ]
  },
  {
   "cell_type": "raw",
   "id": "17dd1797-47b5-4c0f-bd61-e968a9fe5c60",
   "metadata": {},
   "source": [
    "bacon = 22\n",
    "bacon +1\n",
    "bacon will contain 22 "
   ]
  },
  {
   "cell_type": "raw",
   "id": "d1c5742c-8f1e-45c0-9d99-a3e837efcf31",
   "metadata": {},
   "source": [
    "'spamspamspam'\n",
    "'spamspamspam'"
   ]
  },
  {
   "cell_type": "raw",
   "id": "acd262ac-24c1-4e04-9630-10759dfea73a",
   "metadata": {},
   "source": [
    "as per the rule the variable cannot be the number or begins with the number,Variable name must start with a letter or the underscore character"
   ]
  },
  {
   "cell_type": "raw",
   "id": "f1a112b3-3235-4a53-812d-183d2b77e759",
   "metadata": {},
   "source": [
    " The int(),float(),and str() functions will evaluate to the integer,floating-point number,string version of the value passed to them."
   ]
  },
  {
   "cell_type": "raw",
   "id": "3fdbf264-53a7-4b72-882b-dea1f2b063f5",
   "metadata": {},
   "source": [
    "we cannot concatenate the string with the numeric values we must convert the numeric value into string eg 'I have eaten ' + str(99) + 'burritos.'"
   ]
  },
  {
   "cell_type": "code",
   "execution_count": null,
   "id": "36c17c24-ed9b-4b29-8521-2238ab7b5019",
   "metadata": {},
   "outputs": [],
   "source": []
  }
 ],
 "metadata": {
  "kernelspec": {
   "display_name": "Python 3 (ipykernel)",
   "language": "python",
   "name": "python3"
  },
  "language_info": {
   "codemirror_mode": {
    "name": "ipython",
    "version": 3
   },
   "file_extension": ".py",
   "mimetype": "text/x-python",
   "name": "python",
   "nbconvert_exporter": "python",
   "pygments_lexer": "ipython3",
   "version": "3.10.6"
  }
 },
 "nbformat": 4,
 "nbformat_minor": 5
}
