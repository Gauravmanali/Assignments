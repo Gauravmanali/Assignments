{
 "cells": [
  {
   "cell_type": "code",
   "execution_count": 1,
   "id": "8e8c5598-acdb-4047-af86-fa19640b2958",
   "metadata": {},
   "outputs": [
    {
     "data": {
      "text/plain": [
       "'\\n1) In the below elements which of them are values or an expression? eg:- values can be\\n integer or string and expressions will be mathematical operators.\\n* =  expression\\nhello = Values \\n-87.8 = Values \\n- =  expression\\n/ =  expression\\n+ =  expression\\n6 = Values \\n'"
      ]
     },
     "execution_count": 1,
     "metadata": {},
     "output_type": "execute_result"
    }
   ],
   "source": [
    "\"\"\"\n",
    "1) In the below elements which of them are values or an expression? eg:- values can be\n",
    " integer or string and expressions will be mathematical operators.\n",
    "* =  expression\n",
    "hello = Values \n",
    "-87.8 = Values \n",
    "- =  expression\n",
    "/ =  expression\n",
    "+ =  expression\n",
    "6 = Values \n",
    "\"\"\""
   ]
  },
  {
   "cell_type": "code",
   "execution_count": 1,
   "id": "ef7041b9-eba6-4ae8-a3bb-994a68cd1c01",
   "metadata": {},
   "outputs": [
    {
     "data": {
      "text/plain": [
       "' \\n2)\\nvariable is where we store the information where as string is value that we store in variable '"
      ]
     },
     "execution_count": 1,
     "metadata": {},
     "output_type": "execute_result"
    }
   ],
   "source": [
    "\"\"\" \n",
    "2)\n",
    "variable is where we store the information where as string is value that we store in variable \"\"\""
   ]
  },
  {
   "cell_type": "code",
   "execution_count": 2,
   "id": "f8d953b0-1b14-47ca-a326-f4e2d484c4bd",
   "metadata": {},
   "outputs": [
    {
     "data": {
      "text/plain": [
       "'\\n3)\\nString = values containg inside double quotes (\" \") \\n\\nInteger = whole number (7, 12, 999)\\n\\nFloat containing numbers with decimal points (3.15, 9.06, 00.13)\\n'"
      ]
     },
     "execution_count": 2,
     "metadata": {},
     "output_type": "execute_result"
    }
   ],
   "source": [
    "\"\"\"\n",
    "3)\n",
    "String = values containg inside double quotes (\" \") \n",
    "\n",
    "Integer = whole number (7, 12, 999)\n",
    "\n",
    "Float containing numbers with decimal points (3.15, 9.06, 00.13)\n",
    "\"\"\""
   ]
  },
  {
   "cell_type": "code",
   "execution_count": 3,
   "id": "d17d8556-2df7-44ab-84c3-2af8ba7019bb",
   "metadata": {},
   "outputs": [
    {
     "data": {
      "text/plain": [
       "'\\n4)\\nAn expression is a combination of values, variables, operators, and calls to function\\nThe expression in Python produces some value or result after being interpreted by the Python interpreter\\n'"
      ]
     },
     "execution_count": 3,
     "metadata": {},
     "output_type": "execute_result"
    }
   ],
   "source": [
    "\"\"\"\n",
    "4)\n",
    "An expression is a combination of values, variables, operators, and calls to function\n",
    "The expression in Python produces some value or result after being interpreted by the Python interpreter\n",
    "\"\"\""
   ]
  },
  {
   "cell_type": "code",
   "execution_count": 5,
   "id": "acb4c0e7-d2a4-44b0-91e4-bbeec9328597",
   "metadata": {},
   "outputs": [
    {
     "data": {
      "text/plain": [
       "'\\n5)\\nAn expression is a combination of values, variables, and operators.When we type an expression at the prompt, the interpreter evaluates it, which means that it finds the value of the expression.\\n\\neg: 4*5+20-40 is an example of a statement\\n\\nA statement is a unit of code that has an effect, like creating a variable or displaying a value.When we type a statement, the interpreter executes it, which means that it does whatever the statement says. In general, statements don’t have values.\\n\\neg: variable declaration and assignment are statements because they do not return a value'"
      ]
     },
     "execution_count": 5,
     "metadata": {},
     "output_type": "execute_result"
    }
   ],
   "source": [
    " \"\"\"\n",
    "5)\n",
    "An expression is a combination of values, variables, and operators.When we type an expression at the prompt, the interpreter evaluates it, which means that it finds the value of the expression.\n",
    "\n",
    "eg: 4*5+20-40 is an example of a statement\n",
    "\n",
    "A statement is a unit of code that has an effect, like creating a variable or displaying a value.When we type a statement, the interpreter executes it, which means that it does whatever the statement says. In general, statements don’t have values.\n",
    "\n",
    "eg: variable declaration and assignment are statements because they do not return a value\"\"\""
   ]
  },
  {
   "cell_type": "code",
   "execution_count": 6,
   "id": "b3ccb555-5659-4134-8943-c14818ea367d",
   "metadata": {},
   "outputs": [
    {
     "data": {
      "text/plain": [
       "'\\n6)\\nbacon = 22\\nbacon +1\\nbacon will contain 22 '"
      ]
     },
     "execution_count": 6,
     "metadata": {},
     "output_type": "execute_result"
    }
   ],
   "source": [
    "\"\"\"\n",
    "6)\n",
    "bacon = 22\n",
    "bacon +1\n",
    "bacon will contain 22 \"\"\""
   ]
  },
  {
   "cell_type": "code",
   "execution_count": 7,
   "id": "e028779d-4561-4f2d-8c1b-51d72ba9bc97",
   "metadata": {},
   "outputs": [
    {
     "data": {
      "text/plain": [
       "\"\\n7)\\n'spamspamspam'\\n'spamspamspam'\""
      ]
     },
     "execution_count": 7,
     "metadata": {},
     "output_type": "execute_result"
    }
   ],
   "source": [
    "\"\"\"\n",
    "7)\n",
    "'spamspamspam'\n",
    "'spamspamspam'\"\"\"\n"
   ]
  },
  {
   "cell_type": "code",
   "execution_count": 8,
   "id": "79a5ac2a-2f45-405d-acfe-76e1bd16fbfb",
   "metadata": {},
   "outputs": [
    {
     "data": {
      "text/plain": [
       "'\\n8)\\nas per the rule the variable cannot be the number or begins with the number,Variable name must start with a letter or the underscore character'"
      ]
     },
     "execution_count": 8,
     "metadata": {},
     "output_type": "execute_result"
    }
   ],
   "source": [
    "\"\"\"\n",
    "8)\n",
    "as per the rule the variable cannot be the number or begins with the number,Variable name must start with a letter or the underscore character\"\"\""
   ]
  },
  {
   "cell_type": "code",
   "execution_count": 9,
   "id": "c3f130df-3d88-416e-bf4f-0dab147adafd",
   "metadata": {},
   "outputs": [
    {
     "data": {
      "text/plain": [
       "'\\n9)\\nThe int(),float(),and str() functions will evaluate to the integer,floating-point number,string version of the value passed to them.'"
      ]
     },
     "execution_count": 9,
     "metadata": {},
     "output_type": "execute_result"
    }
   ],
   "source": [
    "\"\"\"\n",
    "9)\n",
    "The int(),float(),and str() functions will evaluate to the integer,floating-point number,string version of the value passed to them.\"\"\""
   ]
  },
  {
   "cell_type": "code",
   "execution_count": null,
   "id": "87e310b5-7cbe-4b32-b4b5-6d9ebc3c8ab4",
   "metadata": {},
   "outputs": [],
   "source": [
    "\"\"\"\n",
    "10)\n",
    "we cannot concatenate the string with the numeric values we must convert the numeric value into string eg 'I have eaten ' + str(99) + 'burritos.'\n",
    "\"\"\""
   ]
  },
  {
   "cell_type": "code",
   "execution_count": null,
   "id": "36c17c24-ed9b-4b29-8521-2238ab7b5019",
   "metadata": {},
   "outputs": [],
   "source": []
  }
 ],
 "metadata": {
  "kernelspec": {
   "display_name": "Python 3 (ipykernel)",
   "language": "python",
   "name": "python3"
  },
  "language_info": {
   "codemirror_mode": {
    "name": "ipython",
    "version": 3
   },
   "file_extension": ".py",
   "mimetype": "text/x-python",
   "name": "python",
   "nbconvert_exporter": "python",
   "pygments_lexer": "ipython3",
   "version": "3.10.6"
  }
 },
 "nbformat": 4,
 "nbformat_minor": 5
}
