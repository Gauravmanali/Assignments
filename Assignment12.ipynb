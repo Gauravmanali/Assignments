{
 "cells": [
  {
   "cell_type": "markdown",
   "id": "92f6b6a3-2614-44bb-b285-7fce2f5e07c1",
   "metadata": {},
   "source": [
    "Ans1 For PdfFileReader() file objects should be opened in rb -> read binary mode, Whereas for PdfFileWriter() file objects should be opened in wb -> write binary mode."
   ]
  },
  {
   "cell_type": "markdown",
   "id": "a1733193-a679-4e58-9835-6abce4b90226",
   "metadata": {},
   "source": [
    "Ans2 PdfFileReader class provides a method called getPage(page_no) to get a page object."
   ]
  },
  {
   "cell_type": "markdown",
   "id": "a341f6a0-aa90-4ad0-b4d6-ab36f332a0a7",
   "metadata": {},
   "source": [
    "Ans3 getNumPages() method of PdfFileReader class stores the no pages in a PDF document"
   ]
  },
  {
   "cell_type": "markdown",
   "id": "7c9fe4e6-9028-4a81-bc6d-e781be260b15",
   "metadata": {},
   "source": [
    "Ans4  If a PdfFileReader object’s PDF is encrypted with the password swordfish and you're not aware of it. first read the Pdf using the PdfFileReader Class. PdfFileReader class provides a attribute called isEncrypted to check whether a pdf is encrypted or not. the method returns true if a pdf is encrypted and vice versa.\n",
    "if pdf is encrypted use the decrypt() method provided by PdfFileReader class first then try to read the contents/pages of the pdf, else PyPDF2 will raise the following error PyPDF2.utils.PdfReadError: file has not been decrypted"
   ]
  },
  {
   "cell_type": "markdown",
   "id": "3aa004f5-606d-4271-a65e-bde166053ff9",
   "metadata": {},
   "source": [
    "Ans5 PyPDF2 Package provides 2 methods to rotate a page:\n",
    "\n",
    "1) rotateClockWise() -> For Clockwise rotation\n",
    "3) rotateCounterClockWise() -> For Counter Clockwise rotation"
   ]
  },
  {
   "cell_type": "markdown",
   "id": "abf99ce8-3ec0-4735-9004-4994a91d6a46",
   "metadata": {},
   "source": [
    "Ans6)\n",
    "The structure of a document is represented by three different data types in python-Docx. At the highest level, a Document object represents the entire document. The Document object contains a list of Paragraph objects for the paragraphs in the document. (A new paragraph begins whenever the user presses ENTER or RETURN while typing in a Word document.) Each of these Paragraph objects contains a list of one or more Run objects.\n",
    "\n",
    "The text in a Word document is more than just a string. It has font, size, color, and other styling information associated with it. A style in Word is a collection of these attributes. A Run object is a contiguous run of text with the same style. A new Run object is needed whenever the text style changes"
   ]
  },
  {
   "cell_type": "markdown",
   "id": "e3a4d173-cc97-4741-82fd-ab861f66d39f",
   "metadata": {},
   "source": [
    "Ans8 Run object has bold, underline, italic, strike, and outline variables. The text in a Word document is more than just a string. It has font, size, color, and other styling information associated with it.\n",
    "\n",
    "A style in Word is a collection of these attributes. A Run object is a contiguous run of text with the same style. A new Run object is needed whenever the text style changes."
   ]
  },
  {
   "cell_type": "code",
   "execution_count": 2,
   "id": "f7121dce-e513-4759-8ffe-e9a04f899227",
   "metadata": {},
   "outputs": [],
   "source": [
    "'Ans9' \n",
    "bold = True  # Style Set to Bold\n",
    "bold = False # Style Not Set to Bold\n",
    "bold = None # Style is Not Applicable"
   ]
  },
  {
   "cell_type": "markdown",
   "id": "be03aed9-b6eb-4fa3-83ab-d47c3066c33f",
   "metadata": {},
   "source": [
    "Ans12 \n",
    "The levels for a heading in a word document can be specified by using the level attribute inside the add_heading method. There are a total of 5 levels statring for 0 t0 4. where level 0 makes a headline with the horizontal line below the text, whereas the heading level 1 is the main heading. Similarly, the other headings are sub-heading with their's font-sizes in decreasing order."
   ]
  },
  {
   "cell_type": "code",
   "execution_count": null,
   "id": "1ae49a97-aaee-4bdb-8436-f1eb1ef02ffb",
   "metadata": {},
   "outputs": [],
   "source": []
  },
  {
   "cell_type": "code",
   "execution_count": null,
   "id": "5bbc4275-8542-4cbc-9586-be12b7bc342e",
   "metadata": {},
   "outputs": [],
   "source": []
  }
 ],
 "metadata": {
  "kernelspec": {
   "display_name": "Python 3 (ipykernel)",
   "language": "python",
   "name": "python3"
  },
  "language_info": {
   "codemirror_mode": {
    "name": "ipython",
    "version": 3
   },
   "file_extension": ".py",
   "mimetype": "text/x-python",
   "name": "python",
   "nbconvert_exporter": "python",
   "pygments_lexer": "ipython3",
   "version": "3.10.6"
  }
 },
 "nbformat": 4,
 "nbformat_minor": 5
}
