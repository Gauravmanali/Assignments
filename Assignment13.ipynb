{
 "cells": [
  {
   "cell_type": "markdown",
   "id": "d9e8f504-3271-47a1-9baa-3d22def4a7c7",
   "metadata": {},
   "source": [
    "Ans1 \n",
    "Excel (XLS and XLSX) file formats are better for storing and analysing complex data.\n",
    "An Excel not only stores data but can also do operations on the data using macros, formulas etc\n",
    "CSV files are plain-text files, Does not contain formatting, formulas, macros, etc. It is also known as flat files"
   ]
  },
  {
   "cell_type": "code",
   "execution_count": 6,
   "id": "f7d8d53d-d52c-4d8a-9bee-d0de8a9282e2",
   "metadata": {},
   "outputs": [
    {
     "name": "stdout",
     "output_type": "stream",
     "text": [
      "['{']\n",
      "[' \"cells\": []', '']\n",
      "[' \"metadata\": {}', '']\n",
      "[' \"nbformat\": 4', '']\n",
      "[' \"nbformat_minor\": 5']\n",
      "['}']\n"
     ]
    }
   ],
   "source": [
    "'Ans2'\n",
    "import csv\n",
    "with open('test.csv','r') as file:\n",
    "    csv_file = csv.reader(file,delimiter=',')\n",
    "    for ele in csv_file:\n",
    "        print(ele)"
   ]
  },
  {
   "cell_type": "markdown",
   "id": "c1f48305-96b8-410a-a7a9-30bfb7e4f42a",
   "metadata": {},
   "source": [
    "Ans3  For csv.reader(iterable_file_object), the file objects needed to be opened in read mode mode='r' Whereas for csv.writer(iterable_file_object) the file objects needed to be opened in write mode mode='w'"
   ]
  },
  {
   "cell_type": "markdown",
   "id": "ac0b9e58-292f-4b0d-b305-ffa83606e48c",
   "metadata": {},
   "source": [
    "Ans4  csv.writer class provides two methods for writing to CSV. They are writerow() and writerows(). writerow() method writes a single row at a time. Whereas writerows() method is used to write multiple rows at a time."
   ]
  },
  {
   "cell_type": "markdown",
   "id": "dd8518e2-04f3-4f22-9be7-0950a792de01",
   "metadata": {},
   "source": [
    "Ans4 First Name, Last Name, Age\n",
    "Mano, Vishnu, 24\n",
    "Vishnu, Vardhan, 21\n",
    "Here ',' is Delimiter. We can use any Character as per our needs if required. Similarly Line Terminator comes at end of line by default it is newline and can be changed accourding to Requirement."
   ]
  },
  {
   "cell_type": "markdown",
   "id": "eb9a8a71-d123-4fe8-9379-7e72769d8e7f",
   "metadata": {},
   "source": [
    "Ans5 loads() method takes a string of JSON data and returns a Python data structure"
   ]
  },
  {
   "cell_type": "markdown",
   "id": "6a54ea09-925b-4d31-906d-3bb5f66b5383",
   "metadata": {},
   "source": [
    "Ans6 dumps() method takes a python data structure and returns a string of JSON data"
   ]
  }
 ],
 "metadata": {
  "kernelspec": {
   "display_name": "Python 3 (ipykernel)",
   "language": "python",
   "name": "python3"
  },
  "language_info": {
   "codemirror_mode": {
    "name": "ipython",
    "version": 3
   },
   "file_extension": ".py",
   "mimetype": "text/x-python",
   "name": "python",
   "nbconvert_exporter": "python",
   "pygments_lexer": "ipython3",
   "version": "3.10.6"
  }
 },
 "nbformat": 4,
 "nbformat_minor": 5
}
