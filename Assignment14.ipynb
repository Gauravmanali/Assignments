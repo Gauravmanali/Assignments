{
 "cells": [
  {
   "cell_type": "markdown",
   "id": "8a9f0e69-1e87-4c16-9a38-108b655d1bf7",
   "metadata": {},
   "source": [
    "Ans1 RGBA is a four-channel format containing data for Red, Green, Blue, and an Alpha value."
   ]
  },
  {
   "cell_type": "markdown",
   "id": "d765b9e9-2c32-4d25-84dc-ee15911569c3",
   "metadata": {},
   "source": [
    "Ans2 ImageColor.getcolor() gives rgba value of any imag"
   ]
  },
  {
   "cell_type": "markdown",
   "id": "9265a3b2-af9e-4c78-8fd8-c02da585053f",
   "metadata": {},
   "source": [
    "Ans3 A box tuple is a tuple value of four integers: the left-edge x-coordinate, the top-edge y-coordinate,the width, and the height, respectively"
   ]
  },
  {
   "cell_type": "markdown",
   "id": "009c94f8-dff7-478e-bb01-467347b744bd",
   "metadata": {},
   "source": [
    "Ans7  Pillows ImageDraw module contains Shape drawing methods"
   ]
  },
  {
   "cell_type": "markdown",
   "id": "3e02b6b0-e04b-4526-a22b-5268cd63fb8f",
   "metadata": {},
   "source": [
    "Ans8 ImageDraw objects have shape-drawing methods such as point(), line(), or rectangle().They are returned by passing the Image object to the ImageDraw.Draw() function."
   ]
  },
  {
   "cell_type": "code",
   "execution_count": null,
   "id": "2e126e34-c875-46bd-91f9-c612b697201f",
   "metadata": {},
   "outputs": [],
   "source": []
  }
 ],
 "metadata": {
  "kernelspec": {
   "display_name": "Python 3 (ipykernel)",
   "language": "python",
   "name": "python3"
  },
  "language_info": {
   "codemirror_mode": {
    "name": "ipython",
    "version": 3
   },
   "file_extension": ".py",
   "mimetype": "text/x-python",
   "name": "python",
   "nbconvert_exporter": "python",
   "pygments_lexer": "ipython3",
   "version": "3.10.6"
  }
 },
 "nbformat": 4,
 "nbformat_minor": 5
}
