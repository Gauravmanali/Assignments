{
 "cells": [
  {
   "cell_type": "code",
   "execution_count": 1,
   "id": "24465686-95a1-434e-8449-8cb0a6f192d8",
   "metadata": {},
   "outputs": [
    {
     "name": "stdout",
     "output_type": "stream",
     "text": [
      "3600\n"
     ]
    }
   ],
   "source": [
    "'Ans1'\n",
    "print(60*60)"
   ]
  },
  {
   "cell_type": "code",
   "execution_count": 4,
   "id": "5b879a91-255a-405d-aa1e-fe10c70de4af",
   "metadata": {},
   "outputs": [
    {
     "name": "stdout",
     "output_type": "stream",
     "text": [
      "3600\n"
     ]
    }
   ],
   "source": [
    "'Ans2'\n",
    "seconds_per_hour = 60*60\n",
    "print(seconds_per_hour)"
   ]
  },
  {
   "cell_type": "code",
   "execution_count": 5,
   "id": "91f1c01a-0733-40db-ad67-bab4dba3303e",
   "metadata": {},
   "outputs": [
    {
     "name": "stdout",
     "output_type": "stream",
     "text": [
      "86400\n"
     ]
    }
   ],
   "source": [
    "'Ans3'\n",
    "minutes_per_hour = 60\n",
    "print(seconds_per_hour*24)"
   ]
  },
  {
   "cell_type": "code",
   "execution_count": 6,
   "id": "4dc852ba-54b8-4bb6-a5c9-3ebe9bc224fd",
   "metadata": {},
   "outputs": [
    {
     "name": "stdout",
     "output_type": "stream",
     "text": [
      "86400\n"
     ]
    }
   ],
   "source": [
    "'Ans4'\n",
    "seconds_per_day = 24*60*60\n",
    "print(seconds_per_day)"
   ]
  },
  {
   "cell_type": "code",
   "execution_count": 7,
   "id": "bf6f396c-2de1-46a9-b3d7-deeb900eda03",
   "metadata": {},
   "outputs": [
    {
     "name": "stdout",
     "output_type": "stream",
     "text": [
      "86400\n"
     ]
    }
   ],
   "source": [
    "'Ans5' \n",
    "seconds_per_day = 24*60*60\n",
    "print(seconds_per_day)"
   ]
  },
  {
   "cell_type": "code",
   "execution_count": 8,
   "id": "80fb19a7-aa4e-4650-80d4-df6c4fc82d6f",
   "metadata": {},
   "outputs": [
    {
     "name": "stdout",
     "output_type": "stream",
     "text": [
      "24 -> yes this values agree with the floating point value from the previous question\n"
     ]
    }
   ],
   "source": [
    "'Ans6'\n",
    "print(seconds_per_day//seconds_per_hour, end='')\n",
    "print(' -> yes this values agree with the floating point value from the previous question')"
   ]
  },
  {
   "cell_type": "code",
   "execution_count": 9,
   "id": "9fc79fb3-85fa-4dd7-8407-d45c98bca2e8",
   "metadata": {},
   "outputs": [
    {
     "name": "stdout",
     "output_type": "stream",
     "text": [
      "2, 3, 5, 7, 11, 13, 17, 19, 23, 29, 31, 37, 41, 43, 47, "
     ]
    }
   ],
   "source": [
    "def genPrime(n):\n",
    "    for i in range(2,n+1):\n",
    "        flag=0\n",
    "        for j in range(2,int(i/2)+1):\n",
    "            if(i%j==0):\n",
    "                flag=1S\n",
    "                break  \n",
    "        if(flag==0):\n",
    "            print(i,end=', ')\n",
    "genPrime(50)"
   ]
  },
  {
   "cell_type": "code",
   "execution_count": null,
   "id": "da308ae6-2e41-4774-8d74-e02c02099eaf",
   "metadata": {},
   "outputs": [],
   "source": []
  }
 ],
 "metadata": {
  "kernelspec": {
   "display_name": "Python 3 (ipykernel)",
   "language": "python",
   "name": "python3"
  },
  "language_info": {
   "codemirror_mode": {
    "name": "ipython",
    "version": 3
   },
   "file_extension": ".py",
   "mimetype": "text/x-python",
   "name": "python",
   "nbconvert_exporter": "python",
   "pygments_lexer": "ipython3",
   "version": "3.10.6"
  }
 },
 "nbformat": 4,
 "nbformat_minor": 5
}
