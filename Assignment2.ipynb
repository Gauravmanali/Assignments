{
 "cells": [
  {
   "cell_type": "markdown",
   "id": "49d0efb2-6a0b-496a-89e1-44f8119ff33b",
   "metadata": {},
   "source": [
    "Ans1) True and False are two values of the boolen data types. We have to use capital T and F and with the rest of the word in lowercase"
   ]
  },
  {
   "cell_type": "markdown",
   "id": "5dff9cbb-8bdd-4418-8eb0-ea03dfc09c4f",
   "metadata": {},
   "source": [
    "Ans2) or,and,not are the three different type of boolean operators"
   ]
  },
  {
   "cell_type": "raw",
   "id": "bfc86971-7f38-49b7-b39f-295eae072048",
   "metadata": {},
   "source": [
    "Ans3)\n",
    "Truth Table for and operaotor\n",
    "True and True is True\n",
    "True and False is False\n",
    "False and True is False\n",
    "False and False is False\n",
    "\n",
    "Truth Table for or operaotor\n",
    "True and True is True\n",
    "True and False is True\n",
    "False and True is True\n",
    "False and False is False\n",
    "\n",
    "Truth Table for not operaotor\n",
    "True not is False False not is True"
   ]
  },
  {
   "cell_type": "code",
   "execution_count": 14,
   "id": "ea35d719-3c8d-4856-8002-e5697b86a906",
   "metadata": {},
   "outputs": [
    {
     "name": "stdout",
     "output_type": "stream",
     "text": [
      "False\n",
      "False\n",
      "True\n",
      "False\n",
      "False\n",
      "True\n"
     ]
    }
   ],
   "source": [
    "\"Ans4\"\n",
    "print((5>4)and(3==5)) # False\n",
    "print(not(5>4)) # False\n",
    "print((5>4)or(3==5)) # True\n",
    "print(not((5>4)or(3==5))) # False\n",
    "print((True and True)and(True==False)) # False\n",
    "print((not False)or(not True))"
   ]
  },
  {
   "cell_type": "markdown",
   "id": "0d64e714-5329-4943-b38c-97e1f2e397c1",
   "metadata": {},
   "source": [
    "Ans5\n",
    "== , != , < , > , <= , => are the six comparision operator"
   ]
  },
  {
   "cell_type": "code",
   "execution_count": 15,
   "id": "57af9a43-147c-4c7b-852c-6b443d7ae438",
   "metadata": {},
   "outputs": [
    {
     "name": "stdout",
     "output_type": "stream",
     "text": [
      "True\n"
     ]
    }
   ],
   "source": [
    "\"Ans6\"\n",
    "\"\"\"== is the equal to operator that compares two values and evaluates to a Boolean, while = is that assignment operator that stores a value in a variable.\"\"\"\n",
    "a = 2\n",
    "print(a==2)"
   ]
  },
  {
   "cell_type": "code",
   "execution_count": 16,
   "id": "0bc91873-6db4-4351-939b-c09008bb11c5",
   "metadata": {},
   "outputs": [
    {
     "name": "stdout",
     "output_type": "stream",
     "text": [
      "ham\n",
      "spam\n",
      "spam\n"
     ]
    }
   ],
   "source": [
    "\"Ans7\"\n",
    "\"\"\"the below code block is checking the condition wether the spam value is equal to 10\n",
    "grater than 5 else it will print the desire output written in third blok if conditions is not ment\"\"\"\n",
    "spam = 0\n",
    "if spam == 10:\n",
    "    print('eggs')\n",
    "if spam > 5:\n",
    "    print('bacon')\n",
    "else:\n",
    "    print('ham')\n",
    "    print('spam')\n",
    "    print('spam')"
   ]
  },
  {
   "cell_type": "code",
   "execution_count": 18,
   "id": "86679617-afa1-4f93-aaf0-2cffac694ccb",
   "metadata": {},
   "outputs": [
    {
     "name": "stdout",
     "output_type": "stream",
     "text": [
      "Hello\n",
      "Howdy\n",
      "Greetings\n"
     ]
    }
   ],
   "source": [
    "\"Ans8\"\n",
    "def spam_check(spam):\n",
    "    if spam==1:\n",
    "        print('Hello')\n",
    "    elif spam==2:\n",
    "        print('Howdy')\n",
    "    else:\n",
    "        print('Greetings')\n",
    "        \n",
    "spam_check(1) \n",
    "spam_check(2)\n",
    "spam_check(3)"
   ]
  },
  {
   "cell_type": "markdown",
   "id": "0f5cbfaa-891d-4389-be3e-62747ec3c633",
   "metadata": {},
   "source": [
    "\"Ans9\"\n",
    "\"we will press Ctrl-c \" "
   ]
  },
  {
   "cell_type": "markdown",
   "id": "1ffc94ef-2510-43c4-88d9-d9d5655e2680",
   "metadata": {},
   "source": [
    "Ans10\n",
    "Break statement stops the entire process of the loop. Continue statement only stops the current iteration of the loop"
   ]
  },
  {
   "cell_type": "raw",
   "id": "44a060d2-3781-4262-931b-ef3966a9c52a",
   "metadata": {},
   "source": [
    "Ans9\n",
    "The range(10) call range from 0 to 9 and will not include 10 \n",
    "The range (0,10) explicitly tells the loop to start at 0\n",
    "The range(0,10,1) explicitly tells the loop to increase the variable by 1 on each iteration"
   ]
  },
  {
   "cell_type": "code",
   "execution_count": 36,
   "id": "a8a6c372-09eb-4e8f-ae1a-a41f2ec4aaba",
   "metadata": {},
   "outputs": [
    {
     "name": "stdout",
     "output_type": "stream",
     "text": [
      "using for loop\n",
      "1 2 3 4 5 6 7 8 9 10 \n",
      "using while loop\n",
      "1 2 3 4 5 6 7 8 9 10 "
     ]
    }
   ],
   "source": [
    "\"Ans10\"\n",
    "print(\"using for loop\")\n",
    "for i in range(1,11):\n",
    "    print(i,end=\" \")\n",
    "print()\n",
    "print(\"using while loop\")\n",
    "i = 1\n",
    "while i <=10:\n",
    "    print(i,end=\" \" )\n",
    "    i+=1"
   ]
  },
  {
   "cell_type": "raw",
   "id": "b20a0744-2bd6-45d4-ad1b-5b32572676b0",
   "metadata": {},
   "source": [
    "Ans11\n",
    "spam.bacon() function can be called"
   ]
  },
  {
   "cell_type": "code",
   "execution_count": null,
   "id": "7ef8aa5e-d1a9-46f4-aa9f-b35dbe0086f3",
   "metadata": {},
   "outputs": [],
   "source": []
  }
 ],
 "metadata": {
  "kernelspec": {
   "display_name": "Python 3 (ipykernel)",
   "language": "python",
   "name": "python3"
  },
  "language_info": {
   "codemirror_mode": {
    "name": "ipython",
    "version": 3
   },
   "file_extension": ".py",
   "mimetype": "text/x-python",
   "name": "python",
   "nbconvert_exporter": "python",
   "pygments_lexer": "ipython3",
   "version": "3.10.6"
  }
 },
 "nbformat": 4,
 "nbformat_minor": 5
}
