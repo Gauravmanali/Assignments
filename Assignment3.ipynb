{
 "cells": [
  {
   "cell_type": "markdown",
   "id": "51722055-10d3-49b5-8d06-3511892c32da",
   "metadata": {},
   "source": [
    "Ans1\n",
    "code reusability,\n",
    "less time consuming ,\n",
    "easy to handel ,\n",
    "neet code"
   ]
  },
  {
   "cell_type": "markdown",
   "id": "d4d9162f-e3c2-4698-abe5-197df0fe7768",
   "metadata": {},
   "source": [
    "Ans2 The code in a function executes when the function is called"
   ]
  },
  {
   "cell_type": "markdown",
   "id": "8e5e3cfd-c074-4d87-bf0c-e5592e8e8c52",
   "metadata": {},
   "source": [
    "Ans3  The def statement defines/create a function"
   ]
  },
  {
   "cell_type": "markdown",
   "id": "02061537-dd5a-45cd-aa10-d6ba99430167",
   "metadata": {},
   "source": [
    "Ans4 The function contains the codes and when this function is called the codes are executed and we achive a perticular result"
   ]
  },
  {
   "cell_type": "markdown",
   "id": "5cf799cb-5a11-4d3c-8440-0c561fd5595b",
   "metadata": {},
   "source": [
    "Ans5 There is one global scope, and a local scope"
   ]
  },
  {
   "cell_type": "markdown",
   "id": "55d03980-9eb1-43e8-b2de-7e3b2bc6f4cc",
   "metadata": {},
   "source": [
    "Ans6 When a function returns, the local scope is destroyed, and all the variables in it are forgotten"
   ]
  },
  {
   "cell_type": "markdown",
   "id": "439bda11-457c-4272-a18d-50a3cdfad783",
   "metadata": {},
   "source": [
    "Ans7 A return value is the value that a function call evaluates to. Like any value, a return value can be used as part of an expression."
   ]
  },
  {
   "cell_type": "markdown",
   "id": "a0f068ec-456c-4da0-84d2-234099e744d2",
   "metadata": {},
   "source": [
    "Ans8 The return value will be None"
   ]
  },
  {
   "cell_type": "markdown",
   "id": "4c9c71ac-1a57-4af0-a1df-470c995e6b86",
   "metadata": {},
   "source": [
    "Ans9  we can use the global keyword to declare teh variablesto be  global."
   ]
  },
  {
   "cell_type": "markdown",
   "id": "d2dd33d8-7379-442a-800e-b6f3f440029f",
   "metadata": {},
   "source": [
    "Ans10  The data type of None is NoneType."
   ]
  },
  {
   "cell_type": "markdown",
   "id": "18e1d58d-5823-4b25-b995-9d0dd59e775f",
   "metadata": {},
   "source": [
    "Ans11 imports a module named areallyourpetsnamederic"
   ]
  },
  {
   "cell_type": "markdown",
   "id": "21b586f3-14bf-4f52-8298-7ee0c985a92a",
   "metadata": {},
   "source": [
    "Ans12 This function can be called with spam.bacon()."
   ]
  },
  {
   "cell_type": "markdown",
   "id": "3d891426-f605-407f-9c4a-26ebfbf2f07a",
   "metadata": {},
   "source": [
    "Ans13 try and except block can be used to handel the errors "
   ]
  },
  {
   "cell_type": "markdown",
   "id": "4b26a1e9-5058-4cc5-aea4-22b2a9b59254",
   "metadata": {},
   "source": [
    "Asn14 The code that could potentially cause an error goes in the try clause. The code that executes if an error happens goes in the except clause."
   ]
  },
  {
   "cell_type": "code",
   "execution_count": null,
   "id": "106ae167-7ad8-4353-88f6-a6ca4208942f",
   "metadata": {},
   "outputs": [],
   "source": []
  }
 ],
 "metadata": {
  "kernelspec": {
   "display_name": "Python 3 (ipykernel)",
   "language": "python",
   "name": "python3"
  },
  "language_info": {
   "codemirror_mode": {
    "name": "ipython",
    "version": 3
   },
   "file_extension": ".py",
   "mimetype": "text/x-python",
   "name": "python",
   "nbconvert_exporter": "python",
   "pygments_lexer": "ipython3",
   "version": "3.10.6"
  }
 },
 "nbformat": 4,
 "nbformat_minor": 5
}
