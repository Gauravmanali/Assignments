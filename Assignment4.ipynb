{
 "cells": [
  {
   "cell_type": "markdown",
   "id": "ff125211-36bd-4cd6-96ef-836328c8f0b3",
   "metadata": {},
   "source": [
    "Ans1 [ ] used to create list or to represent the empty list "
   ]
  },
  {
   "cell_type": "code",
   "execution_count": 4,
   "id": "5da06a26-e00c-474e-8163-e52b1b043139",
   "metadata": {},
   "outputs": [
    {
     "data": {
      "text/plain": [
       "[2, 4, 'hello', 8, 10]"
      ]
     },
     "execution_count": 4,
     "metadata": {},
     "output_type": "execute_result"
    }
   ],
   "source": [
    "\"Ans2\"\n",
    "spam = [2, 4, 6, 8, 10]\n",
    "spam[2]= 'hello'\n",
    "spam"
   ]
  },
  {
   "cell_type": "markdown",
   "id": "f934f686-c445-4a11-ae4a-c8b65049de23",
   "metadata": {},
   "source": [
    "Ans3  d"
   ]
  },
  {
   "cell_type": "markdown",
   "id": "b89fe136-9de4-4f6a-8209-f5c741a98081",
   "metadata": {},
   "source": [
    "Ans4 d"
   ]
  },
  {
   "cell_type": "code",
   "execution_count": 5,
   "id": "68b85d03-312a-4f2f-b5f2-4c1210460126",
   "metadata": {},
   "outputs": [
    {
     "data": {
      "text/plain": [
       "['a', 'b']"
      ]
     },
     "execution_count": 5,
     "metadata": {},
     "output_type": "execute_result"
    }
   ],
   "source": [
    "\"Ans5\"\n",
    "spam=['a','b','c','d']\n",
    "spam[:2]"
   ]
  },
  {
   "cell_type": "code",
   "execution_count": 19,
   "id": "4c3d307d-a1a6-44cc-b5fa-9eec4777e11a",
   "metadata": {},
   "outputs": [
    {
     "data": {
      "text/plain": [
       "1"
      ]
     },
     "execution_count": 19,
     "metadata": {},
     "output_type": "execute_result"
    }
   ],
   "source": [
    "\"Ans6\"\n",
    "bacon = [3.14,'cat',11,'cat',True]\n",
    "bacon.index('cat')"
   ]
  },
  {
   "cell_type": "code",
   "execution_count": 20,
   "id": "63ed4219-f536-412c-b150-a738647ff7b3",
   "metadata": {},
   "outputs": [
    {
     "data": {
      "text/plain": [
       "[3.14, 'cat', 11, 'cat', True, 99]"
      ]
     },
     "execution_count": 20,
     "metadata": {},
     "output_type": "execute_result"
    }
   ],
   "source": [
    "\"Ans7\"\n",
    "bacon.append(99)\n",
    "bacon"
   ]
  },
  {
   "cell_type": "code",
   "execution_count": 21,
   "id": "594872bf-e609-492b-9fc6-c6ed6abd736c",
   "metadata": {},
   "outputs": [
    {
     "data": {
      "text/plain": [
       "[3.14, 11, 'cat', True, 99]"
      ]
     },
     "execution_count": 21,
     "metadata": {},
     "output_type": "execute_result"
    }
   ],
   "source": [
    "\"Ans8\"\n",
    "bacon.remove('cat')\n",
    "bacon"
   ]
  },
  {
   "cell_type": "code",
   "execution_count": 22,
   "id": "1912eec0-6c40-4eef-907f-0277d24db48e",
   "metadata": {},
   "outputs": [
    {
     "name": "stdout",
     "output_type": "stream",
     "text": [
      "['ML', 'DL', 'AI', 'CV', 'NLP', 'RNN', 'CNN', 'SVN']\n",
      "['RNN', 'CNN', 'SVN', 'RNN', 'CNN', 'SVN']\n"
     ]
    }
   ],
   "source": [
    "\"Ans9\"\n",
    "\"The operator for list concatenation is +, while the operator for replication is *\"\n",
    "list_1 = ['ML','DL','AI','CV','NLP']\n",
    "list_2 = ['RNN','CNN','SVN']\n",
    "print(list_1 + list_2)\n",
    "print(list_2*2)"
   ]
  },
  {
   "cell_type": "code",
   "execution_count": 30,
   "id": "5ecf0d36-c56a-4750-ae2f-e7900f29afda",
   "metadata": {},
   "outputs": [
    {
     "name": "stdout",
     "output_type": "stream",
     "text": [
      "[1, 2, 3, 4, 5, 6]\n",
      "[1, 2, 'Demo', 3, 4, 5, 6]\n"
     ]
    }
   ],
   "source": [
    "\"\"\"Ans10 While append() will add values only to the end of a list, insert() can add them where the index is defined in the list.\"\"\"\n",
    "list = [1,2,3,4,5]\n",
    "list.append(6)\n",
    "print(list)\n",
    "list.insert(2,'Demo')\n",
    "print(list)"
   ]
  },
  {
   "cell_type": "markdown",
   "id": "10b2c221-157a-4cdf-b023-63c5e801edd0",
   "metadata": {},
   "source": [
    "Asn11 The del statement and the remove() method are two ways to remove values from a list"
   ]
  },
  {
   "cell_type": "markdown",
   "id": "dc446c1c-1429-4c51-bdcb-02cec710bff7",
   "metadata": {},
   "source": [
    "Ans12 Both lists and strings can be passed to len() function, have indexes and slices, be used in for loops, be concatenated or replicated, and be used with the in and not in operators."
   ]
  },
  {
   "cell_type": "markdown",
   "id": "9adacf02-5a89-4712-ae54-8fc1d721cbe2",
   "metadata": {},
   "source": [
    "Ans13 Lists are Mutable, Indexable and Slicable. they can have values added, removed, or changed. Tuples are Immutable but Indexable and Slicable. the tuple values cannot be changed at all. Also, tuples are represented using parentheses, (), while lists use the square brackets, []"
   ]
  },
  {
   "cell_type": "markdown",
   "id": "6e7a9482-c59f-42ce-bd92-1a3f85b46ac3",
   "metadata": {},
   "source": [
    "Ans14 (42,) (The comma is mandatory. otherwise its considered as a int by python Interpreter)"
   ]
  },
  {
   "cell_type": "markdown",
   "id": "a48013f8-2614-418d-a048-ed47299653d0",
   "metadata": {},
   "source": [
    "Ans15 The tuple() and list() functions, respectively are used to convert a list to tuple and vice versa"
   ]
  },
  {
   "cell_type": "markdown",
   "id": "31ee4654-f222-4e76-a39f-e3ce14f52b45",
   "metadata": {},
   "source": [
    "Ans16  They contain references to list value"
   ]
  },
  {
   "cell_type": "markdown",
   "id": "3c05bc09-c7da-4ed2-8d51-12c25a12be1f",
   "metadata": {},
   "source": [
    "Ans17 The copy.copy() function will do a shallow copy of a list, while the copy.deepcopy() function will do a deep copy of a list. That is, only copy.deepcopy() will duplicate any lists inside the list."
   ]
  },
  {
   "cell_type": "code",
   "execution_count": null,
   "id": "5fb5c635-abee-4ccc-b867-893260ac4473",
   "metadata": {},
   "outputs": [],
   "source": []
  }
 ],
 "metadata": {
  "kernelspec": {
   "display_name": "Python 3 (ipykernel)",
   "language": "python",
   "name": "python3"
  },
  "language_info": {
   "codemirror_mode": {
    "name": "ipython",
    "version": 3
   },
   "file_extension": ".py",
   "mimetype": "text/x-python",
   "name": "python",
   "nbconvert_exporter": "python",
   "pygments_lexer": "ipython3",
   "version": "3.10.6"
  }
 },
 "nbformat": 4,
 "nbformat_minor": 5
}
