{
 "cells": [
  {
   "cell_type": "markdown",
   "id": "0bd2c9af-c861-49e8-bcd4-81a68d8566ba",
   "metadata": {},
   "source": [
    "Ans1)\n",
    "empty dictionary \n",
    "d = { }\n",
    "d = dict( )"
   ]
  },
  {
   "cell_type": "markdown",
   "id": "57d9ea91-fda5-494e-8b3a-10ac41e43eee",
   "metadata": {},
   "source": [
    "Ans2) dicitionary = {'foo': '42'}"
   ]
  },
  {
   "cell_type": "markdown",
   "id": "3d883f4d-fc6c-4399-80f6-8f5a29f0c54c",
   "metadata": {},
   "source": [
    "Ans3) Dictionaries are represented by { } where as list are represented by [ ]"
   ]
  },
  {
   "cell_type": "code",
   "execution_count": 5,
   "id": "b3d2e994-6b95-46dc-a12c-ebaf40827c77",
   "metadata": {},
   "outputs": [
    {
     "ename": "SyntaxError",
     "evalue": "unterminated string literal (detected at line 4) (919997875.py, line 4)",
     "output_type": "error",
     "traceback": [
      "\u001b[0;36m  Cell \u001b[0;32mIn [5], line 4\u001b[0;36m\u001b[0m\n\u001b[0;31m    'we will get keyError 'foo'\u001b[0m\n\u001b[0m                              ^\u001b[0m\n\u001b[0;31mSyntaxError\u001b[0m\u001b[0;31m:\u001b[0m unterminated string literal (detected at line 4)\n"
     ]
    }
   ],
   "source": [
    "\"Ans4)\"\n",
    "spam = {'bar':100}\n",
    "spam['foo']\n",
    "'we will get keyError 'foo'"
   ]
  },
  {
   "cell_type": "markdown",
   "id": "68b829fc-394a-4bea-975a-26c847805b49",
   "metadata": {},
   "source": [
    "Ans5) There is no difference . The operator checks whether a value exits as a key in the dictionary or not"
   ]
  },
  {
   "cell_type": "markdown",
   "id": "70fb2db5-a96d-4d6a-9aca-af6cdc70878e",
   "metadata": {},
   "source": [
    "Ans6) 'cat' in spam checks whether there is a 'cat' key in the dictionary, while 'cat' in spam.values() checks whether there is a value 'cat' for one of the keys in spam."
   ]
  },
  {
   "cell_type": "markdown",
   "id": "d89e028f-3be3-4844-9e23-c8031e9f9188",
   "metadata": {},
   "source": [
    "Ans7) spam.setdefault('color','black')"
   ]
  },
  {
   "cell_type": "code",
   "execution_count": 23,
   "id": "c68ad869-c022-4a54-8f8c-4c534c2f565b",
   "metadata": {},
   "outputs": [
    {
     "name": "stdout",
     "output_type": "stream",
     "text": [
      "priting using print() function\n",
      "[{'Name': 'Gaurav', 'Age': '19', 'Residence': {'Country': 'India', 'City': 'Delhi'}}, {'Name': 'Neeraj', 'Age': '24', 'Residence': {'Country': 'Nepal', 'City': 'Katmandu'}}, {'Name': 'Anne', 'Age': '29', 'Residence': {'Country': 'UK', 'City': 'England'}}, {'Name': 'Shivani', 'Age': '22', 'Residence': {'Country': 'India', 'City': 'Mumbai'}}]\n",
      "xxxxxxxxxxxxxxxxxxxxxxxxxxxxxxxxxxxxxxxxxxxxxxxxxxxxxxxxxxxxxxxxxxxxxxxxxxxxxxxxxxxxxxxxxxxxxxxxxxxxxxxxxxxxxxx\n",
      "printing using pprint() function\n",
      "[{'Age': '19',\n",
      "  'Name': 'Gaurav',\n",
      "  'Residence': {'City': 'Delhi', 'Country': 'India'}},\n",
      " {'Age': '24',\n",
      "  'Name': 'Neeraj',\n",
      "  'Residence': {'City': 'Katmandu', 'Country': 'Nepal'}},\n",
      " {'Age': '29',\n",
      "  'Name': 'Anne',\n",
      "  'Residence': {'City': 'England', 'Country': 'UK'}},\n",
      " {'Age': '22',\n",
      "  'Name': 'Shivani',\n",
      "  'Residence': {'City': 'Mumbai', 'Country': 'India'}}]\n",
      "xxxxxxxxxxxxxxxxxxxxxxxxxxxxxxxxxxxxxxxxxxxxxxxxxxxxxxxxxxxxxxxxxxxxxxxxxxxxxxxxxxxxxxxxxxxxxxxxxxxxxxxxxxxxxxx\n",
      "printing using dumps() methods\n",
      "[\n",
      "   {\n",
      "      \"Name\": \"Gaurav\",\n",
      "      \"Age\": \"19\",\n",
      "      \"Residence\": {\n",
      "         \"Country\": \"India\",\n",
      "         \"City\": \"Delhi\"\n",
      "      }\n",
      "   },\n",
      "   {\n",
      "      \"Name\": \"Neeraj\",\n",
      "      \"Age\": \"24\",\n",
      "      \"Residence\": {\n",
      "         \"Country\": \"Nepal\",\n",
      "         \"City\": \"Katmandu\"\n",
      "      }\n",
      "   },\n",
      "   {\n",
      "      \"Name\": \"Anne\",\n",
      "      \"Age\": \"29\",\n",
      "      \"Residence\": {\n",
      "         \"Country\": \"UK\",\n",
      "         \"City\": \"England\"\n",
      "      }\n",
      "   },\n",
      "   {\n",
      "      \"Name\": \"Shivani\",\n",
      "      \"Age\": \"22\",\n",
      "      \"Residence\": {\n",
      "         \"Country\": \"India\",\n",
      "         \"City\": \"Mumbai\"\n",
      "      }\n",
      "   }\n",
      "]\n",
      "xxxxxxxxxxxxxxxxxxxxxxxxxxxxxxxxxxxxxxxxxxxxxxxxxxxxxxxxxxxxxxxxxxxxxxxxxxxxxxxxxxxxxxxxxxxxxxxxxxxxxxxxxxxxxxx\n",
      "printing using dump method\n",
      "- Age: '19'\n",
      "  Name: Gaurav\n",
      "  Residence:\n",
      "    City: Delhi\n",
      "    Country: India\n",
      "- Age: '24'\n",
      "  Name: Neeraj\n",
      "  Residence:\n",
      "    City: Katmandu\n",
      "    Country: Nepal\n",
      "- Age: '29'\n",
      "  Name: Anne\n",
      "  Residence:\n",
      "    City: England\n",
      "    Country: UK\n",
      "- Age: '22'\n",
      "  Name: Shivani\n",
      "  Residence:\n",
      "    City: Mumbai\n",
      "    Country: India\n",
      "\n"
     ]
    }
   ],
   "source": [
    "'Ans8)'\n",
    "\n",
    "\"\"\" we can pretty print a dictionary using three functions\n",
    "\n",
    "by using pprint() function of pprint module but pprint() function doesnot prettify nested dictionaries\n",
    "by using dumps() method of json module\n",
    "by using dumps() method of yaml module\"\"\"\n",
    "\n",
    "dictionary = [\n",
    "  {'Name': 'Gaurav', 'Age': '19', 'Residence': {'Country':'India', 'City': 'Delhi'}},\n",
    "  {'Name': 'Neeraj', 'Age': '24', 'Residence': {'Country':'Nepal', 'City': 'Katmandu'}},\n",
    "  {'Name': 'Anne', 'Age': '29', 'Residence': {'Country':'UK', 'City': 'England'}},\n",
    "  {'Name': 'Shivani', 'Age': '22', 'Residence': {'Country':'India', 'City': 'Mumbai'}}\n",
    "]\n",
    "\n",
    "print('priting using print() function')\n",
    "print(dictionary)\n",
    "print('xxxxxxxxxxxxxxxxxxxxxxxxxxxxxxxxxxxxxxxxxxxxxxxxxxxxxxxxxxxxxxxxxxxxxxxxxxxxxxxxxxxxxxxxxxxxxxxxxxxxxxxxxxxxxxx')\n",
    "print('printing using pprint() function')\n",
    "import pprint\n",
    "pprint.pprint(dictionary)\n",
    "print('xxxxxxxxxxxxxxxxxxxxxxxxxxxxxxxxxxxxxxxxxxxxxxxxxxxxxxxxxxxxxxxxxxxxxxxxxxxxxxxxxxxxxxxxxxxxxxxxxxxxxxxxxxxxxxx')\n",
    "print('printing using dumps() methods')\n",
    "import json\n",
    "print(json.dumps(dictionary,indent=3))\n",
    "print('xxxxxxxxxxxxxxxxxxxxxxxxxxxxxxxxxxxxxxxxxxxxxxxxxxxxxxxxxxxxxxxxxxxxxxxxxxxxxxxxxxxxxxxxxxxxxxxxxxxxxxxxxxxxxxx')\n",
    "print('printing using dump method')\n",
    "import yaml\n",
    "print(yaml.dump(dictionary))"
   ]
  },
  {
   "cell_type": "code",
   "execution_count": null,
   "id": "8a9c978a-a6c9-49de-a5a1-6602812db1f3",
   "metadata": {},
   "outputs": [],
   "source": []
  }
 ],
 "metadata": {
  "kernelspec": {
   "display_name": "Python 3 (ipykernel)",
   "language": "python",
   "name": "python3"
  },
  "language_info": {
   "codemirror_mode": {
    "name": "ipython",
    "version": 3
   },
   "file_extension": ".py",
   "mimetype": "text/x-python",
   "name": "python",
   "nbconvert_exporter": "python",
   "pygments_lexer": "ipython3",
   "version": "3.10.6"
  }
 },
 "nbformat": 4,
 "nbformat_minor": 5
}
