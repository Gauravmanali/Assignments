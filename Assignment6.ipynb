{
 "cells": [
  {
   "cell_type": "markdown",
   "id": "13deeb7c-6604-4589-a178-c22997cb9848",
   "metadata": {},
   "source": [
    "Ans1)  Escape characters or sequences are illegal characters for Python and never get printed as part of the output we can use the backslash\\ followed by the character you want to insert \n",
    "ig \\t,\\n"
   ]
  },
  {
   "cell_type": "markdown",
   "id": "24aef7aa-0bd0-42eb-b153-4a26a0ce5b31",
   "metadata": {},
   "source": [
    "Ans2)  \\n is for  newline, \\t is for tab"
   ]
  },
  {
   "cell_type": "markdown",
   "id": "934b6e3e-f9bb-43a1-aecd-3756375fab07",
   "metadata": {},
   "source": [
    "Ans3)  The \\\\ escape character will represent the backslash character in a string"
   ]
  },
  {
   "cell_type": "code",
   "execution_count": 3,
   "id": "65a95c4a-93fc-425b-b550-8a9871f6c4bd",
   "metadata": {},
   "outputs": [
    {
     "data": {
      "text/plain": [
       "\"Howl's Moving Castle\""
      ]
     },
     "execution_count": 3,
     "metadata": {},
     "output_type": "execute_result"
    }
   ],
   "source": [
    "\"\"\"Asn4) \n",
    "Because if its wrapped inside single quotes then we have to use escape character \\' to show single quote in the final output\n",
    " \"\"\"\n",
    "'Howl\\'s Moving Castle'"
   ]
  },
  {
   "cell_type": "markdown",
   "id": "f5503fb2-71cb-488d-8944-c5d366bec06d",
   "metadata": {},
   "source": [
    "Asn5)  Multiline string eg \"\"\" \"\"\"  allow you to use newlines in string without the \\n escape character"
   ]
  },
  {
   "cell_type": "code",
   "execution_count": 10,
   "id": "f4e4472d-1b5f-48b5-a7be-278574c5693b",
   "metadata": {},
   "outputs": [
    {
     "name": "stdout",
     "output_type": "stream",
     "text": [
      "e\n",
      "Hello\n",
      "Hello\n",
      "lo, world!\n"
     ]
    }
   ],
   "source": [
    "'Ans6)'\n",
    "print('Hello, world!'[1])\n",
    "print('Hello, world!'[0:5])\n",
    "print('Hello, world!'[:5])\n",
    "print('Hello, world!'[3:])"
   ]
  },
  {
   "cell_type": "code",
   "execution_count": 11,
   "id": "99b09dc0-f4bc-4f65-a662-b3b2de6a5736",
   "metadata": {},
   "outputs": [
    {
     "name": "stdout",
     "output_type": "stream",
     "text": [
      "HELLO\n",
      "True\n",
      "hello\n"
     ]
    }
   ],
   "source": [
    "'Ans7)'\n",
    "print('Hello'.upper())\n",
    "print('Hello'.upper().isupper())\n",
    "print('Hello'.upper().lower())"
   ]
  },
  {
   "cell_type": "code",
   "execution_count": 15,
   "id": "914f757d-0469-439e-a0b1-16f099f5b936",
   "metadata": {},
   "outputs": [
    {
     "name": "stdout",
     "output_type": "stream",
     "text": [
      "['Remember,', 'remember,', 'the', 'fifith', 'of', 'July.']\n",
      "There-can-only-one\n"
     ]
    }
   ],
   "source": [
    "'Ans8'\n",
    "print('Remember, remember, the fifith of July.'.split())\n",
    "print('-'.join('There can only one'.split()))"
   ]
  },
  {
   "cell_type": "markdown",
   "id": "5716df97-b1e4-4cd7-a23e-678008cfaea0",
   "metadata": {},
   "source": [
    "Asn9 rjust(),ljust(),center()"
   ]
  },
  {
   "cell_type": "code",
   "execution_count": 17,
   "id": "eca69621-b6d4-416f-be6d-929b206a9aef",
   "metadata": {},
   "outputs": [
    {
     "data": {
      "text/plain": [
       "'Ans10)\\nusing strip( ) method \\nlstrip( ) and rstrip( ) are the method to remove whitespace '"
      ]
     },
     "execution_count": 17,
     "metadata": {},
     "output_type": "execute_result"
    }
   ],
   "source": [
    "\"\"\"Ans10)\n",
    "using strip( ) method \n",
    "lstrip( ) and rstrip( ) are the method to remove whitespace \"\"\""
   ]
  },
  {
   "cell_type": "code",
   "execution_count": null,
   "id": "1a8c099e-b69c-4567-bc33-37ac5623aded",
   "metadata": {},
   "outputs": [],
   "source": []
  }
 ],
 "metadata": {
  "kernelspec": {
   "display_name": "Python 3 (ipykernel)",
   "language": "python",
   "name": "python3"
  },
  "language_info": {
   "codemirror_mode": {
    "name": "ipython",
    "version": 3
   },
   "file_extension": ".py",
   "mimetype": "text/x-python",
   "name": "python",
   "nbconvert_exporter": "python",
   "pygments_lexer": "ipython3",
   "version": "3.10.6"
  }
 },
 "nbformat": 4,
 "nbformat_minor": 5
}
