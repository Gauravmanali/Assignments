{
 "cells": [
  {
   "cell_type": "code",
   "execution_count": 3,
   "id": "4914ecc0-edc5-4f8b-91a9-51b30affc8fb",
   "metadata": {},
   "outputs": [
    {
     "data": {
      "text/plain": [
       "re.Pattern"
      ]
     },
     "execution_count": 3,
     "metadata": {},
     "output_type": "execute_result"
    }
   ],
   "source": [
    "\"Ans1) re.complie\"\n",
    "import re\n",
    "a = 'My name is gaurav'\n",
    "x = re.compile(a)\n",
    "type(x)"
   ]
  },
  {
   "cell_type": "markdown",
   "id": "be8fed24-1024-4d8a-8f23-758140f0c0ff",
   "metadata": {},
   "source": [
    "Ans2 : Regular expressions use the backslash character to indicate special forms or to allow special characters  to be used without invoking their special meaning. This collides with Python’s usage of the same character for the same purpose in string literals. Hence, Raw strings are used  so that backslashes do not have to be escaped."
   ]
  },
  {
   "cell_type": "markdown",
   "id": "4d96a86e-7fd1-4c6a-8744-8d705f6fa6b5",
   "metadata": {},
   "source": [
    "Ans3 The return value of re.search(pattern,string) method is a match object if the pattern is observed in the string else it returns a None"
   ]
  },
  {
   "cell_type": "code",
   "execution_count": 4,
   "id": "3314a89c-6bbb-4569-ad65-41b856b79cf0",
   "metadata": {},
   "outputs": [
    {
     "name": "stdout",
     "output_type": "stream",
     "text": [
      "<re.Match object; span=(11, 12), match='G'>\n",
      "None\n"
     ]
    }
   ],
   "source": [
    "import re\n",
    "obj1 = re.search('G','My name is Gaurav')\n",
    "print(obj1)\n",
    "obj2 = re.search('X','My name is Gaurav')\n",
    "print(obj2)"
   ]
  },
  {
   "cell_type": "markdown",
   "id": "edab44f8-59f2-4f61-9137-625dca5d50c6",
   "metadata": {},
   "source": [
    " Ans4) For Matched items group() methods returns actual strings that match the pattern"
   ]
  },
  {
   "cell_type": "code",
   "execution_count": 6,
   "id": "8d89c18c-40f5-481d-ae66-4079ed0c0241",
   "metadata": {},
   "outputs": [
    {
     "name": "stdout",
     "output_type": "stream",
     "text": [
      "manali\n"
     ]
    }
   ],
   "source": [
    "import re \n",
    "item = re.search('manali','My name is gaurav manali')\n",
    "print(item.group())"
   ]
  },
  {
   "cell_type": "markdown",
   "id": "ae2417ef-3db7-4870-987f-4d3bf1fd1df8",
   "metadata": {},
   "source": [
    "Ans5 In the Regex r'(\\d\\d\\d)-(\\d\\d\\d-\\d\\d\\d\\d)' the zero group covers the entire pattern match where as the first group cover (\\d\\d\\d) and the second group cover (\\d\\d\\d-\\d\\d\\d\\d)"
   ]
  },
  {
   "cell_type": "code",
   "execution_count": 7,
   "id": "ed57a3fc-bed1-45e1-9a03-b3dae0721b97",
   "metadata": {},
   "outputs": [
    {
     "data": {
      "text/plain": [
       "'Ans6 The \\\\. \\\\( and \\\\) escape characters in the raw string passed to re.compile() will match actual parenthesis characters.'"
      ]
     },
     "execution_count": 7,
     "metadata": {},
     "output_type": "execute_result"
    }
   ],
   "source": [
    "\"Ans6 The \\. \\( and \\) escape characters in the raw string passed to re.compile() will match actual parenthesis characters.\""
   ]
  },
  {
   "cell_type": "markdown",
   "id": "eda02024-fb34-489a-88e6-83b7977f4ed0",
   "metadata": {},
   "source": [
    "Ans7  If the regex pattern has no groups, a list of strings matched is returned. if the regex pattern has groups, a list of tuple of strings is returned"
   ]
  },
  {
   "cell_type": "markdown",
   "id": "02b33671-6d70-4c30-be8a-cc251f33d524",
   "metadata": {},
   "source": [
    "Ans8 In Standard Expressions | means OR operator."
   ]
  },
  {
   "cell_type": "markdown",
   "id": "fd9ce8a7-cba5-4729-9666-bdc2e6b63203",
   "metadata": {},
   "source": [
    "Ans9  In regular Expressions, ? characters represents zero or one match of the preceeding group."
   ]
  },
  {
   "cell_type": "markdown",
   "id": "1fb80ff4-3e8d-46d8-af8b-0be734e65812",
   "metadata": {},
   "source": [
    "Ans10 * Represents Zero ore more occurances of the preceeding group, whereas + represents one or more occurances of the preceeding group"
   ]
  },
  {
   "cell_type": "markdown",
   "id": "7aaa82aa-5d6d-4478-8c37-b2faf2a431a7",
   "metadata": {},
   "source": [
    "Ans11  {4} means that its preceeding group should repeat 4 times. where as {4,5} means that its preceeding group should repeat mininum 4 times and maximum 5 times inclusively"
   ]
  },
  {
   "cell_type": "code",
   "execution_count": 10,
   "id": "c6f87037-3c95-4f62-9d09-e5c768f93ce5",
   "metadata": {},
   "outputs": [
    {
     "data": {
      "text/plain": [
       "'Ans12 \\\\d, \\\\w and \\\\s are special sequences in regular expresssions in python:\\n\\n\\\\w – Matches a word character equivalent to [a-zA-Z0-9_]\\n\\\\d – Matches digit character equivalent to [0-9]\\n\\\\s – Matches whitespace character (space, tab, newline, etc.)'"
      ]
     },
     "execution_count": 10,
     "metadata": {},
     "output_type": "execute_result"
    }
   ],
   "source": [
    "\"\"\"Ans12 \\d, \\w and \\s are special sequences in regular expresssions in python:\n",
    "\n",
    "\\w – Matches a word character equivalent to [a-zA-Z0-9_]\n",
    "\\d – Matches digit character equivalent to [0-9]\n",
    "\\s – Matches whitespace character (space, tab, newline, etc.)\"\"\""
   ]
  },
  {
   "cell_type": "code",
   "execution_count": 11,
   "id": "3842202d-7137-4ec7-9cff-3c38994546a9",
   "metadata": {},
   "outputs": [
    {
     "data": {
      "text/plain": [
       "'Ans13 \\\\D, \\\\W and \\\\S are special sequences in regular expresssions in python:\\n\\n\\\\W – Matches any non-alphanumeric character equivalent to [^a-zA-Z0-9_]\\n\\\\D – Matches any non-digit character, this is equivalent to the set class [^0-9]\\n\\\\S – Matches any non-whitespace character'"
      ]
     },
     "execution_count": 11,
     "metadata": {},
     "output_type": "execute_result"
    }
   ],
   "source": [
    "\"\"\"Ans13 \\D, \\W and \\S are special sequences in regular expresssions in python:\n",
    "\n",
    "\\W – Matches any non-alphanumeric character equivalent to [^a-zA-Z0-9_]\n",
    "\\D – Matches any non-digit character, this is equivalent to the set class [^0-9]\n",
    "\\S – Matches any non-whitespace character\"\"\""
   ]
  },
  {
   "cell_type": "markdown",
   "id": "3ed24d4b-369c-454a-bedb-0706fc8b1b94",
   "metadata": {},
   "source": [
    "Ans14  .* is a Greedy mode, which returns the longest string that meets the condition. Whereas .*? is a non greedy mode which returns the shortest string that meets the condition"
   ]
  },
  {
   "cell_type": "markdown",
   "id": "4ca2e1b0-f4a8-4a13-9ce8-3fef9a66d329",
   "metadata": {},
   "source": [
    "Ans15 : The Synatax is Either [a-z0-9] or [0-9a-z]"
   ]
  },
  {
   "cell_type": "markdown",
   "id": "ca17c260-263c-4580-b6b9-13e194881b41",
   "metadata": {},
   "source": [
    "Ans16 We can pass re.IGNORECASE as a flag to make a noraml expression case insensitive"
   ]
  },
  {
   "cell_type": "markdown",
   "id": "7598b526-39a9-499b-9225-bc48a3335dd5",
   "metadata": {},
   "source": [
    "Ans17 Dot . character matches everything in input except newline character .. By passing re.DOTALL as a flag to re.compile(), you can make the dot character match all characters, including the newline character."
   ]
  },
  {
   "cell_type": "markdown",
   "id": "4e111194-af71-4f95-884d-78670a049b3b",
   "metadata": {},
   "source": [
    "Ans18 The Ouput will be 'X drummers, X pipers, five rings, X hen'"
   ]
  },
  {
   "cell_type": "code",
   "execution_count": 13,
   "id": "72ddc225-824e-4e47-a593-bd8e3c9e9660",
   "metadata": {},
   "outputs": [
    {
     "data": {
      "text/plain": [
       "'X drummers, X pipers, five rings, X hen'"
      ]
     },
     "execution_count": 13,
     "metadata": {},
     "output_type": "execute_result"
    }
   ],
   "source": [
    "import re\n",
    "numReg = re.compile(r'\\d+')\n",
    "numReg.sub('X', '11 drummers, 10 pipers, five rings, 4 hen')"
   ]
  },
  {
   "cell_type": "markdown",
   "id": "ac99c494-20aa-4c2c-b23f-79cb7ff7e5bb",
   "metadata": {},
   "source": [
    "Ans19 re.VERBOSE will allow to add whitespace and comments to string passed to re.compile()."
   ]
  },
  {
   "cell_type": "markdown",
   "id": "1e8b678b-f864-4ad7-8a24-d62159cfb6ed",
   "metadata": {},
   "source": [
    "Ans20 '42','1,234', '6,368,745'but not the following: '12,34,567' (which has only two digits between the commas) '1234'"
   ]
  },
  {
   "cell_type": "code",
   "execution_count": 15,
   "id": "442a9458-1dbe-476c-8942-099bb91010f9",
   "metadata": {},
   "outputs": [
    {
     "name": "stdout",
     "output_type": "stream",
     "text": [
      "Output: 42 -> <re.Match object; span=(0, 2), match='42'>\n",
      "Output: 1,234 -> <re.Match object; span=(0, 5), match='1,234'>\n",
      "Output: 6,368,745 -> <re.Match object; span=(0, 9), match='6,368,745'>\n",
      "Output: 12,34,567 -> None\n",
      "Output: 1234 -> None\n"
     ]
    }
   ],
   "source": [
    "import re\n",
    "pattern = r'^\\d{1,3}(,\\d{3})*$'\n",
    "pagex = re.compile(pattern)\n",
    "for ele in ['42','1,234', '6,368,745','12,34,567','1234']:\n",
    "    print('Output:',ele, '->', pagex.search(ele))"
   ]
  },
  {
   "cell_type": "markdown",
   "id": "1b497122-60d8-49c5-9d34-5efc891879dd",
   "metadata": {},
   "source": [
    "Ans21 pattern = r'[A-Z]{1}[a-z]*\\sWatanabe'"
   ]
  },
  {
   "cell_type": "code",
   "execution_count": 16,
   "id": "111b3b88-9c8b-4d29-b4b4-a49983a64d72",
   "metadata": {},
   "outputs": [
    {
     "name": "stdout",
     "output_type": "stream",
     "text": [
      "Output:  Haruto Watanabe -> <re.Match object; span=(0, 15), match='Haruto Watanabe'>\n",
      "Output:  Alice Watanabe -> <re.Match object; span=(0, 14), match='Alice Watanabe'>\n",
      "Output:  RoboCop Watanabe -> <re.Match object; span=(4, 16), match='Cop Watanabe'>\n",
      "Output:  haruto Watanabe -> None\n",
      "Output:  Mr. Watanabe -> None\n",
      "Output:  Watanabe -> None\n",
      "Output:  Haruto watanabe -> None\n"
     ]
    }
   ],
   "source": [
    "import re\n",
    "pattern = r'[A-Z]{1}[a-z]*\\sWatanabe'\n",
    "namex = re.compile(pattern)\n",
    "for name in ['Haruto Watanabe','Alice Watanabe','RoboCop Watanabe','haruto Watanabe','Mr. Watanabe','Watanabe','Haruto watanabe']:\n",
    "    print('Output: ',name,'->',namex.search(name))"
   ]
  },
  {
   "cell_type": "markdown",
   "id": "1cf5f8ea-1f5f-4bd6-9d76-f1c7912fe0ea",
   "metadata": {},
   "source": [
    "Ans22 pattern = r'(Alice|Bob|Carol)\\s(eats|pets|throws)\\s(apples|cats|baseballs)\\.'"
   ]
  },
  {
   "cell_type": "code",
   "execution_count": 19,
   "id": "6cf566f6-e42d-4b18-8471-00a40623ce1f",
   "metadata": {},
   "outputs": [
    {
     "name": "stdout",
     "output_type": "stream",
     "text": [
      "Output:  Alice eats apples. -> <re.Match object; span=(0, 18), match='Alice eats apples.'>\n",
      "Output:  Bob pets cats. -> <re.Match object; span=(0, 14), match='Bob pets cats.'>\n",
      "Output:  Carol throws baseballs. -> <re.Match object; span=(0, 23), match='Carol throws baseballs.'>\n",
      "Output:  Alice throws Apples. -> <re.Match object; span=(0, 20), match='Alice throws Apples.'>\n",
      "Output:  BOB EATS CATS. -> <re.Match object; span=(0, 14), match='BOB EATS CATS.'>\n",
      "Output:  RoboCop eats apples. -> None\n",
      "Output:  ALICE THROWS FOOTBALLS. -> None\n",
      "Output:  Carol eats 7 cats. -> None\n"
     ]
    }
   ],
   "source": [
    "import re\n",
    "pattern = r'(Alice|Bob|Carol)\\s(eats|pets|throws)\\s(apples|cats|baseballs)\\.'\n",
    "casex = re.compile(pattern,re.IGNORECASE)\n",
    "for ele in ['Alice eats apples.','Bob pets cats.','Carol throws baseballs.','Alice throws Apples.','BOB EATS CATS.','RoboCop eats apples.'\n",
    ",'ALICE THROWS FOOTBALLS.','Carol eats 7 cats.']:\n",
    "    print('Output: ',ele,'->',casex.search(ele))"
   ]
  },
  {
   "cell_type": "code",
   "execution_count": null,
   "id": "a3423953-875b-44f0-bc94-fd65d3b9babb",
   "metadata": {},
   "outputs": [],
   "source": []
  }
 ],
 "metadata": {
  "kernelspec": {
   "display_name": "Python 3 (ipykernel)",
   "language": "python",
   "name": "python3"
  },
  "language_info": {
   "codemirror_mode": {
    "name": "ipython",
    "version": 3
   },
   "file_extension": ".py",
   "mimetype": "text/x-python",
   "name": "python",
   "nbconvert_exporter": "python",
   "pygments_lexer": "ipython3",
   "version": "3.10.6"
  }
 },
 "nbformat": 4,
 "nbformat_minor": 5
}
