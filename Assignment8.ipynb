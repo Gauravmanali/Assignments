{
 "cells": [
  {
   "cell_type": "markdown",
   "id": "d704893d-e720-4045-99ef-35413a8b3c2d",
   "metadata": {},
   "source": [
    "Ans1 No, PyInputPlus is not a part of Python Standard Library, it needs to be installed explicitly"
   ]
  },
  {
   "cell_type": "markdown",
   "id": "d23e5182-c477-422a-bbfc-fab26be23411",
   "metadata": {},
   "source": [
    "Ans2 so that you can enter a shorter name when calling the module's functions"
   ]
  },
  {
   "cell_type": "markdown",
   "id": "2e40327a-cd83-4ce5-af54-45ba4e9e5793",
   "metadata": {},
   "source": [
    "Ans3\n",
    "nputInt() function Accepts an integer value. This also takes additional parameters min, max, greaterThan and lessThan for bounds. And it always returns an int.\n",
    "\n",
    "Whereas inputFloat() function Accepts a floating-point numeric value. this also takes additional min, max, greaterThan and lessThan parameters. and always returns a float."
   ]
  },
  {
   "cell_type": "code",
   "execution_count": 3,
   "id": "e7b39480-dd7b-480f-a339-7b6c52886677",
   "metadata": {},
   "outputs": [
    {
     "name": "stdout",
     "output_type": "stream",
     "text": [
      "Enter a number: "
     ]
    },
    {
     "name": "stdin",
     "output_type": "stream",
     "text": [
      " 10\n"
     ]
    },
    {
     "name": "stdout",
     "output_type": "stream",
     "text": [
      "10\n"
     ]
    }
   ],
   "source": [
    "\"Ans4\"\n",
    "import pyinputplus as pyip\n",
    "wholenumber = pyip.inputInt(prompt='Enter a number: ', min=0, max=100)\n",
    "print(wholenumber)"
   ]
  },
  {
   "cell_type": "markdown",
   "id": "c4747725-b66b-4bee-a987-c6d9df4306c0",
   "metadata": {},
   "source": [
    "Ans5  we can use allowRegexes and blockRegexes keyword arguments to take list of regular expression strings to determine what the pyinputplus function will reject or accept valid input."
   ]
  },
  {
   "cell_type": "markdown",
   "id": "8f185bda-9864-4156-96bb-5bec43d9ceb6",
   "metadata": {},
   "source": [
    "Ans6 The statement inputStr(limit=3) will throw two exceptions ValidationException and RetryLimitException. The first exception is thrown because blank values are not allowed by inputStr() function by default. it we want to consider blank values as valid input, we have to set blank=True.\n",
    "\n",
    "The second exception is occured because we have reached the max limit we have specified by using limit parameter. inorder to avoid this exception we can use default parameter to return a default value when max limit is reached.\n",
    "\n"
   ]
  },
  {
   "cell_type": "markdown",
   "id": "dd2669b9-c1e3-4394-89da-38386beec6d3",
   "metadata": {},
   "source": [
    "Ans7 Since the default parameter is set to hello. after blank input is entered three times instead of raising RetryLimitException exception. the function will return hello as response to the calling function"
   ]
  },
  {
   "cell_type": "code",
   "execution_count": null,
   "id": "2f614969-fc84-48ad-af96-7b86b398c61b",
   "metadata": {},
   "outputs": [],
   "source": []
  }
 ],
 "metadata": {
  "kernelspec": {
   "display_name": "Python 3 (ipykernel)",
   "language": "python",
   "name": "python3"
  },
  "language_info": {
   "codemirror_mode": {
    "name": "ipython",
    "version": 3
   },
   "file_extension": ".py",
   "mimetype": "text/x-python",
   "name": "python",
   "nbconvert_exporter": "python",
   "pygments_lexer": "ipython3",
   "version": "3.10.6"
  }
 },
 "nbformat": 4,
 "nbformat_minor": 5
}
